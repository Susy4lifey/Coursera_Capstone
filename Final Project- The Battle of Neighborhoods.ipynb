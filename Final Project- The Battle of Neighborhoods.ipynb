{
    "cells": [
        {
            "cell_type": "code",
            "execution_count": 1,
            "metadata": {},
            "outputs": [
                {
                    "name": "stdout",
                    "output_type": "stream",
                    "text": "Solving environment: done\n\n# All requested packages already installed.\n\nSolving environment: done\n\n# All requested packages already installed.\n\nLibraries imported.\n"
                }
            ],
            "source": "import numpy as np # library to handle data in a vectorized manner\n\nimport pandas as pd # library for data analsysis\npd.set_option('display.max_columns', None)\npd.set_option('display.max_rows', None)\n\nimport json # library to handle JSON files\n\n!conda install -c conda-forge geopy --yes # uncomment this line if you haven't completed the Foursquare API lab\nfrom geopy.geocoders import Nominatim # convert an address into latitude and longitude values\n\nimport requests # library to handle requests\nfrom pandas.io.json import json_normalize # tranform JSON file into a pandas dataframe\n\n# Matplotlib and associated plotting modules\nimport matplotlib.cm as cm\nimport matplotlib.colors as colors\n\n# import k-means from clustering stage\nfrom sklearn.cluster import KMeans\n\n!conda install -c conda-forge folium=0.5.0 --yes # uncomment this line if you haven't completed the Foursquare API lab\nimport folium # map rendering library\n\nprint('Libraries imported.')"
        },
        {
            "cell_type": "code",
            "execution_count": 2,
            "metadata": {},
            "outputs": [],
            "source": "import csv\n#import os\nimport types\nfrom botocore.client import Config\nimport ibm_boto3"
        },
        {
            "cell_type": "code",
            "execution_count": 3,
            "metadata": {},
            "outputs": [
                {
                    "data": {
                        "text/html": "<div>\n<style scoped>\n    .dataframe tbody tr th:only-of-type {\n        vertical-align: middle;\n    }\n\n    .dataframe tbody tr th {\n        vertical-align: top;\n    }\n\n    .dataframe thead th {\n        text-align: right;\n    }\n</style>\n<table border=\"1\" class=\"dataframe\">\n  <thead>\n    <tr style=\"text-align: right;\">\n      <th></th>\n      <th>State regions</th>\n      <th>Age 4 to 5 Pop</th>\n      <th>Age 6 to 13 Pop</th>\n      <th>Age 14 to 17 Pop</th>\n      <th>Age 18 to 22 Pop</th>\n      <th>Age 23+ Pop</th>\n      <th>Total Pop</th>\n      <th>Latitude</th>\n      <th>Longitude</th>\n    </tr>\n  </thead>\n  <tbody>\n    <tr>\n      <th>0</th>\n      <td>Oyo North</td>\n      <td>77,552</td>\n      <td>558,224</td>\n      <td>358,344</td>\n      <td>335,667</td>\n      <td>1,329,787</td>\n      <td>2,659,574</td>\n      <td>8.525903</td>\n      <td>3.616589</td>\n    </tr>\n    <tr>\n      <th>1</th>\n      <td>Oyo South</td>\n      <td>172,518</td>\n      <td>265,887</td>\n      <td>345,668</td>\n      <td>624,567</td>\n      <td>1,000,654</td>\n      <td>2,567,254</td>\n      <td>7.374447</td>\n      <td>3.271742</td>\n    </tr>\n    <tr>\n      <th>2</th>\n      <td>Oyo Central</td>\n      <td>200,584</td>\n      <td>156,716</td>\n      <td>338,547</td>\n      <td>613,453</td>\n      <td>1,257,954</td>\n      <td>2,409,294</td>\n      <td>7.968394</td>\n      <td>3.571628</td>\n    </tr>\n  </tbody>\n</table>\n</div>",
                        "text/plain": "  State regions Age 4 to 5 Pop Age 6 to 13 Pop Age 14 to 17 Pop  \\\n0     Oyo North         77,552         558,224          358,344   \n1     Oyo South        172,518         265,887          345,668   \n2   Oyo Central        200,584         156,716          338,547   \n\n  Age 18 to 22 Pop Age 23+ Pop  Total Pop  Latitude  Longitude  \n0          335,667   1,329,787  2,659,574  8.525903   3.616589  \n1          624,567   1,000,654  2,567,254  7.374447   3.271742  \n2          613,453   1,257,954  2,409,294  7.968394   3.571628  "
                    },
                    "execution_count": 3,
                    "metadata": {},
                    "output_type": "execute_result"
                }
            ],
            "source": "# The code was removed by Watson Studio for sharing."
        },
        {
            "cell_type": "code",
            "execution_count": 4,
            "metadata": {},
            "outputs": [
                {
                    "name": "stdout",
                    "output_type": "stream",
                    "text": "The geograpical coordinate of Oyo are 8.2151249, 3.5642897.\n"
                }
            ],
            "source": "#get the latitude and longitude values of \n\naddress = \"Oyo, NG\"\n\ngeolocator = Nominatim(user_agent=\"oyo_explorer\")\noyolocation = geolocator.geocode(address)\noyolatitude = oyolocation.latitude\noyolongitude = oyolocation.longitude\nprint('The geograpical coordinate of Oyo are {}, {}.'.format(oyolatitude, oyolongitude))\n\n#OR \n#oyolatitude = 8.1574 oyolongitude = 3.6147"
        },
        {
            "cell_type": "code",
            "execution_count": 5,
            "metadata": {},
            "outputs": [
                {
                    "data": {
                        "text/html": "<div style=\"width:100%;\"><div style=\"position:relative;width:100%;height:0;padding-bottom:60%;\"><span style=\"color:#565656\">Make this Notebook Trusted to load map: File -> Trust Notebook</span><iframe src=\"about:blank\" style=\"position:absolute;width:100%;height:100%;left:0;top:0;border:none !important;\" data-html=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 onload=\"this.contentDocument.open();this.contentDocument.write(atob(this.getAttribute('data-html')));this.contentDocument.close();\" allowfullscreen webkitallowfullscreen mozallowfullscreen></iframe></div></div>",
                        "text/plain": "<folium.folium.Map at 0x7f16383afc50>"
                    },
                    "execution_count": 5,
                    "metadata": {},
                    "output_type": "execute_result"
                }
            ],
            "source": "# create map of oyo with regions superimposed on top using latitude and longitude values\nmap_oyo = folium.Map(location=[oyolatitude, oyolongitude], zoom_start=9)\n\n# add markers to map\nfor lat, lng, Statereg in zip(df_oyodata['Latitude'], df_oyodata['Longitude'], df_oyodata['State regions']):\n    label = '{}'.format(Statereg)\n    label = folium.Popup(label, parse_html=True)\n    folium.CircleMarker(\n        [lat, lng],\n        radius=5,\n        popup=label,\n        color='blue',\n        fill=True,\n        fill_color='#3186cc',\n        fill_opacity=0.7,\n        parse_html=False).add_to(map_oyo)  \n    \nmap_oyo"
        },
        {
            "cell_type": "code",
            "execution_count": 9,
            "metadata": {},
            "outputs": [
                {
                    "data": {
                        "text/html": "<div>\n<style scoped>\n    .dataframe tbody tr th:only-of-type {\n        vertical-align: middle;\n    }\n\n    .dataframe tbody tr th {\n        vertical-align: top;\n    }\n\n    .dataframe thead th {\n        text-align: right;\n    }\n</style>\n<table border=\"1\" class=\"dataframe\">\n  <thead>\n    <tr style=\"text-align: right;\">\n      <th></th>\n      <th>State regions</th>\n      <th>Age 4 to 5 Pop</th>\n      <th>Age 6 to 13 Pop</th>\n      <th>Age 14 to 17 Pop</th>\n      <th>Age 18 to 22 Pop</th>\n      <th>Age 23+ Population</th>\n      <th>Tota Pop</th>\n      <th>Latitude</th>\n      <th>Longitude</th>\n    </tr>\n  </thead>\n  <tbody>\n    <tr>\n      <th>0</th>\n      <td>Rivers East</td>\n      <td>215,760</td>\n      <td>225,884</td>\n      <td>335,486</td>\n      <td>785,774</td>\n      <td>1,228,554</td>\n      <td>2,791,458</td>\n      <td>4.889828</td>\n      <td>7.107192</td>\n    </tr>\n    <tr>\n      <th>1</th>\n      <td>Rivers South East</td>\n      <td>205,901</td>\n      <td>265,524</td>\n      <td>300,258</td>\n      <td>424,125</td>\n      <td>602,655</td>\n      <td>1,798,463</td>\n      <td>4.645197</td>\n      <td>7.441428</td>\n    </tr>\n    <tr>\n      <th>2</th>\n      <td>Rivers West</td>\n      <td>356,254</td>\n      <td>385,263</td>\n      <td>412,549</td>\n      <td>658,416</td>\n      <td>679,009</td>\n      <td>2,491,491</td>\n      <td>4.831936</td>\n      <td>6.592625</td>\n    </tr>\n  </tbody>\n</table>\n</div>",
                        "text/plain": "       State regions Age 4 to 5 Pop Age 6 to 13 Pop Age 14 to 17 Pop  \\\n0        Rivers East        215,760         225,884          335,486   \n1  Rivers South East        205,901         265,524          300,258   \n2        Rivers West        356,254         385,263          412,549   \n\n  Age 18 to 22 Pop Age 23+ Population   Tota Pop  Latitude  Longitude  \n0          785,774          1,228,554  2,791,458  4.889828   7.107192  \n1          424,125            602,655  1,798,463  4.645197   7.441428  \n2          658,416            679,009  2,491,491  4.831936   6.592625  "
                    },
                    "execution_count": 9,
                    "metadata": {},
                    "output_type": "execute_result"
                }
            ],
            "source": "\nbody = client_0740f7efd22a430492a3e771a8a1eb58.get_object(Bucket='datasciencecapstoneproject-donotdelete-pr-g55q1nipscrlu7',Key='Capstone project- Rivers data.csv')['Body']\n# add missing __iter__ method, so pandas accepts body as file-like object\nif not hasattr(body, \"__iter__\"): body.__iter__ = types.MethodType( __iter__, body )\n\ndf_riversdata = pd.read_csv(body)\ndf_riversdata.head()\n"
        },
        {
            "cell_type": "code",
            "execution_count": null,
            "metadata": {},
            "outputs": [],
            "source": "#get the latitude and longitude values of \n\naddress = \"Rivers, NG\"\n\ngeolocator = Nominatim(user_agent=\"rivers_explorer\")\nriverslocation = geolocator.geocode(address)\nriverslatitude = riverslocation.latitude\nriverslongitude = riverslocation.longitude\nprint('The geograpical coordinate of Rivers are {}, {}.'.format(riverslatitude, riverslongitude))"
        },
        {
            "cell_type": "code",
            "execution_count": null,
            "metadata": {},
            "outputs": [],
            "source": "# create map of rivers with regions superimposed on top using latitude and longitude values\nmap_rivers = folium.Map(location=[riverslatitude, riverslongitude], zoom_start=9)\n\n# add markers to map\nfor lat, lng, Statereg in zip(df_riversdata['Latitude'], df_riversdata['Longitude'], df_riversdata['State regions']):\n    label = '{}'.format(Statereg)\n    label = folium.Popup(label, parse_html=True)\n    folium.CircleMarker(\n        [lat, lng],\n        radius=5,\n        popup=label,\n        color='blue',\n        fill=True,\n        fill_color='#3186cc',\n        fill_opacity=0.7,\n        parse_html=False).add_to(map_oyo)  \n    \nmap_oyo"
        }
    ],
    "metadata": {
        "kernelspec": {
            "display_name": "Python 3.6",
            "language": "python",
            "name": "python3"
        },
        "language_info": {
            "codemirror_mode": {
                "name": "ipython",
                "version": 3
            },
            "file_extension": ".py",
            "mimetype": "text/x-python",
            "name": "python",
            "nbconvert_exporter": "python",
            "pygments_lexer": "ipython3",
            "version": "3.6.9"
        }
    },
    "nbformat": 4,
    "nbformat_minor": 1
}